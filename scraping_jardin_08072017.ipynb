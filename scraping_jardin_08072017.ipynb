{
 "cells": [
  {
   "cell_type": "code",
   "execution_count": 9,
   "metadata": {
    "collapsed": true
   },
   "outputs": [],
   "source": [
    "# Sirve para transformar imagenes en cadenas de caracteres y viceversa con el algoritmo base64\n",
    "import base64\n",
    "# Realiza peticiones \n",
    "import requests\n",
    "# Nos permite accede al DOM de una web usando XPATH\n",
    "from lxml import html\n",
    "# Comunicación con el sistema operativo\n",
    "import subprocess\n",
    "# Gestión de archivos CSV, codecs y \"cadenas seguras\" no tener problemas con las codificaciones de caracteres\n",
    "import csv, codecs, cStringIO\n",
    "# Ordenes al sistema operativo\n",
    "import os"
   ]
  },
  {
   "cell_type": "code",
   "execution_count": 10,
   "metadata": {
    "collapsed": true
   },
   "outputs": [],
   "source": [
    "# Realizamos una peticion a una web que tiene información de interés\n",
    "jardin = requests.get(\n",
    "     'https://www.ferrokey.eu/jardin/sort-by/manufacturer/sort-direction/asc.html'\n",
    ")\n",
    "# Generamos el arbol DOM\n",
    "tree = html.fromstring(jardin.content)"
   ]
  },
  {
   "cell_type": "code",
   "execution_count": 11,
   "metadata": {
    "collapsed": true
   },
   "outputs": [],
   "source": [
    "# Mediante el visualizador de código del navegador, localizamos la ruta xpath de cada uno de los datos que necesitamos.\n",
    "marca = tree.xpath('//*/div[@class=\"item-box-footer\"]/div[3]/strong/text()')\n",
    "ean = tree.xpath('//*/div[@class=\"item-box-footer\"]/div[2]/strong/text()')\n",
    "nombre = tree.xpath('//*/div[@class=\"item-box-footer\"]/h2/a/@title')\n",
    "detalle = tree.xpath('//*/div[@class=\"item-box-footer\"]/h2/a/@href')\n",
    "categoria = tree.xpath('//*/div[@class=\"category-title\"]/h1/text()')\n",
    "foto = tree.xpath('//*/a[@class=\"product-image-inner\"]/img/@src')\n",
    "precio = tree.xpath('//*/span[@class=\"price\"]/text()')\n",
    "eanNombre = tree.xpath('//*/div[@class=\"item-box-footer\"]/div[2]/strong/text() | //*/div[@class=\"item-box-footer\"]/h2/a/@title')   "
   ]
  },
  {
   "cell_type": "code",
   "execution_count": 12,
   "metadata": {
    "collapsed": true
   },
   "outputs": [],
   "source": [
    "# Creamos una función para pasar una petición y codificar la respues en tipo string codificación base64\n",
    "def urlbase64(url):\n",
    "    response = requests.get(url)\n",
    "    uri = base64.b64encode(response.content)\n",
    "    return uri\n",
    "# Establecemos una ruta en la cual guardaremos las fotos obtenidas. Si no existe, la crea.\n",
    "ruta = r'/Users/ivang/scraping_ivang/jardin2/fotos'\n",
    "if not os.path.exists(ruta):\n",
    "    os.makedirs(ruta)"
   ]
  },
  {
   "cell_type": "code",
   "execution_count": 8,
   "metadata": {
    "collapsed": false
   },
   "outputs": [
    {
     "ename": "IndexError",
     "evalue": "list index out of range",
     "output_type": "error",
     "traceback": [
      "\u001b[0;31m---------------------------------------------------------------------------\u001b[0m",
      "\u001b[0;31mIndexError\u001b[0m                                Traceback (most recent call last)",
      "\u001b[0;32m<ipython-input-8-48de6db87a29>\u001b[0m in \u001b[0;36m<module>\u001b[0;34m()\u001b[0m\n\u001b[1;32m     11\u001b[0m     \u001b[0;32mfor\u001b[0m \u001b[0mi\u001b[0m \u001b[0;32min\u001b[0m \u001b[0mlist\u001b[0m\u001b[0;34m(\u001b[0m\u001b[0mrange\u001b[0m\u001b[0;34m(\u001b[0m\u001b[0;36m25\u001b[0m\u001b[0;34m)\u001b[0m\u001b[0;34m)\u001b[0m\u001b[0;34m:\u001b[0m\u001b[0;34m\u001b[0m\u001b[0m\n\u001b[1;32m     12\u001b[0m         \u001b[0;31m# Establecemos el nombre de las imagenes a nuestro gusto, y la codificamos en base64\u001b[0m\u001b[0;34m\u001b[0m\u001b[0;34m\u001b[0m\u001b[0m\n\u001b[0;32m---> 13\u001b[0;31m         \u001b[0;32mwith\u001b[0m \u001b[0mopen\u001b[0m\u001b[0;34m(\u001b[0m\u001b[0;34m\"/Users/ivang/scraping_ivang/jardin/fotos/imagenjardin{}codigo{}.jpg\"\u001b[0m\u001b[0;34m.\u001b[0m\u001b[0mformat\u001b[0m\u001b[0;34m(\u001b[0m\u001b[0mi\u001b[0m\u001b[0;34m,\u001b[0m \u001b[0mean\u001b[0m\u001b[0;34m[\u001b[0m\u001b[0mi\u001b[0m\u001b[0;34m]\u001b[0m\u001b[0;34m)\u001b[0m\u001b[0;34m,\u001b[0m \u001b[0;34m\"wb\"\u001b[0m\u001b[0;34m)\u001b[0m \u001b[0;32mas\u001b[0m \u001b[0mfh\u001b[0m\u001b[0;34m:\u001b[0m\u001b[0;34m\u001b[0m\u001b[0m\n\u001b[0m\u001b[1;32m     14\u001b[0m             \u001b[0mfh\u001b[0m\u001b[0;34m.\u001b[0m\u001b[0mwrite\u001b[0m\u001b[0;34m(\u001b[0m\u001b[0murlbase64\u001b[0m\u001b[0;34m(\u001b[0m\u001b[0mfoto\u001b[0m\u001b[0;34m[\u001b[0m\u001b[0mi\u001b[0m\u001b[0;34m]\u001b[0m\u001b[0;34m)\u001b[0m\u001b[0;34m.\u001b[0m\u001b[0mdecode\u001b[0m\u001b[0;34m(\u001b[0m\u001b[0;34m'base64'\u001b[0m\u001b[0;34m)\u001b[0m\u001b[0;34m)\u001b[0m\u001b[0;34m\u001b[0m\u001b[0m\n\u001b[1;32m     15\u001b[0m         \u001b[0;31m# Escribimos en cada línea la información que necesitamos\u001b[0m\u001b[0;34m\u001b[0m\u001b[0;34m\u001b[0m\u001b[0m\n",
      "\u001b[0;31mIndexError\u001b[0m: list index out of range"
     ]
    }
   ],
   "source": [
    "# Establecemos el archivo csv en el cual introducimos las cabeceras.\n",
    "with open('/Users/ivang/scraping_ivang/jardin2/jardin.csv', 'w') as csvfile:\n",
    "    # Establecemos las nombres de los campos de las cabeceras.\n",
    "    fieldnames = ['ean', 'marca', 'nombre', 'precio', 'categoria','urlDetalle', 'urlFoto', 'fotoBase64']\n",
    "    # Escribimos la linea anterior en el archivo csv.\n",
    "    writer = csv.DictWriter(csvfile, fieldnames=fieldnames)\n",
    "    #delimiter=' '\n",
    "    #quotechar='|'\n",
    "    writer.writeheader()\n",
    "    # Iteramos el numero de productos que queramos sacar.\n",
    "    for i in list(range(25)):\n",
    "        # Establecemos el nombre de las imagenes a nuestro gusto, y la codificamos en base64\n",
    "        with open(\"/Users/ivang/scraping_ivang/jardin2/fotos/imagenjardin{}codigo{}.jpg\".format(i, ean[i]), \"wb\") as fh:\n",
    "            try:\n",
    "                fh.write(urlbase64(foto[i]).decode('base64'))\n",
    "                # Escribimos en cada línea la información que necesitamos\n",
    "                writer.writerow({'ean': ean[i], 'marca': marca[i], 'nombre':nombre[i], 'precio':precio[i].encode('utf-8'), 'categoria':'jardin', 'urlFoto':foto[i], 'urlDetalle':detalle[i], 'fotoBase64':urlbase64(foto[i])})\n",
    "            except:\n",
    "                pass"
   ]
  },
  {
   "cell_type": "code",
   "execution_count": null,
   "metadata": {
    "collapsed": true
   },
   "outputs": [],
   "source": []
  }
 ],
 "metadata": {
  "kernelspec": {
   "display_name": "Python 2",
   "language": "python",
   "name": "python2"
  },
  "language_info": {
   "codemirror_mode": {
    "name": "ipython",
    "version": 2
   },
   "file_extension": ".py",
   "mimetype": "text/x-python",
   "name": "python",
   "nbconvert_exporter": "python",
   "pygments_lexer": "ipython2",
   "version": "2.7.13"
  }
 },
 "nbformat": 4,
 "nbformat_minor": 2
}
